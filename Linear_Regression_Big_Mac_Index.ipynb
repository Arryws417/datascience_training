{
  "nbformat": 4,
  "nbformat_minor": 0,
  "metadata": {
    "colab": {
      "name": "Linear-Regression-Big Mac Index.ipynb",
      "provenance": [],
      "collapsed_sections": []
    },
    "kernelspec": {
      "name": "python3",
      "display_name": "Python 3"
    }
  },
  "cells": [
    {
      "cell_type": "code",
      "metadata": {
        "id": "sJZUQnxZvp82",
        "colab": {
          "base_uri": "https://localhost:8080/",
          "height": 123
        },
        "outputId": "f8e9d900-0c3a-4b88-ecc6-1aa7a9d280e6"
      },
      "source": [
        "from google.colab import drive\n",
        "drive.mount('drive/')"
      ],
      "execution_count": null,
      "outputs": [
        {
          "output_type": "stream",
          "text": [
            "Go to this URL in a browser: https://accounts.google.com/o/oauth2/auth?client_id=947318989803-6bn6qk8qdgf4n4g3pfee6491hc0brc4i.apps.googleusercontent.com&redirect_uri=urn%3aietf%3awg%3aoauth%3a2.0%3aoob&response_type=code&scope=email%20https%3a%2f%2fwww.googleapis.com%2fauth%2fdocs.test%20https%3a%2f%2fwww.googleapis.com%2fauth%2fdrive%20https%3a%2f%2fwww.googleapis.com%2fauth%2fdrive.photos.readonly%20https%3a%2f%2fwww.googleapis.com%2fauth%2fpeopleapi.readonly\n",
            "\n",
            "Enter your authorization code:\n",
            "··········\n",
            "Mounted at drive/\n"
          ],
          "name": "stdout"
        }
      ]
    },
    {
      "cell_type": "code",
      "metadata": {
        "id": "wg-lUidZvu1A"
      },
      "source": [
        "import os\n",
        "os.chdir('drive/My Drive/Data Science/Regression')"
      ],
      "execution_count": null,
      "outputs": []
    },
    {
      "cell_type": "code",
      "metadata": {
        "id": "aaohmzVav80o",
        "colab": {
          "base_uri": "https://localhost:8080/",
          "height": 71
        },
        "outputId": "06b92ead-6709-474d-88ef-1a745c0c9adc"
      },
      "source": [
        "# \n",
        "import numpy as np # numerical python\n",
        "import pandas as pd # pannel datasets\n",
        "import matplotlib.pyplot as plt # visualization\n",
        "import seaborn as sns # visualization"
      ],
      "execution_count": null,
      "outputs": [
        {
          "output_type": "stream",
          "text": [
            "/usr/local/lib/python3.6/dist-packages/statsmodels/tools/_testing.py:19: FutureWarning: pandas.util.testing is deprecated. Use the functions in the public API at pandas.testing instead.\n",
            "  import pandas.util.testing as tm\n"
          ],
          "name": "stderr"
        }
      ]
    },
    {
      "cell_type": "code",
      "metadata": {
        "id": "7HWyxc1RwDmg"
      },
      "source": [
        "# loading the data\n",
        "df = pd.read_excel('data/big_mac.xlsx')"
      ],
      "execution_count": null,
      "outputs": []
    },
    {
      "cell_type": "code",
      "metadata": {
        "id": "dAtwKAxVwmjd",
        "colab": {
          "base_uri": "https://localhost:8080/",
          "height": 203
        },
        "outputId": "aa016862-1cad-418e-c5b9-ccac02ab16c1"
      },
      "source": [
        "df.head()"
      ],
      "execution_count": null,
      "outputs": [
        {
          "output_type": "execute_result",
          "data": {
            "text/html": [
              "<div>\n",
              "<style scoped>\n",
              "    .dataframe tbody tr th:only-of-type {\n",
              "        vertical-align: middle;\n",
              "    }\n",
              "\n",
              "    .dataframe tbody tr th {\n",
              "        vertical-align: top;\n",
              "    }\n",
              "\n",
              "    .dataframe thead th {\n",
              "        text-align: right;\n",
              "    }\n",
              "</style>\n",
              "<table border=\"1\" class=\"dataframe\">\n",
              "  <thead>\n",
              "    <tr style=\"text-align: right;\">\n",
              "      <th></th>\n",
              "      <th>big_mac_price</th>\n",
              "      <th>hourly_wages_usd</th>\n",
              "    </tr>\n",
              "  </thead>\n",
              "  <tbody>\n",
              "    <tr>\n",
              "      <th>0</th>\n",
              "      <td>1.42</td>\n",
              "      <td>1.70</td>\n",
              "    </tr>\n",
              "    <tr>\n",
              "      <th>1</th>\n",
              "      <td>1.86</td>\n",
              "      <td>7.80</td>\n",
              "    </tr>\n",
              "    <tr>\n",
              "      <th>2</th>\n",
              "      <td>1.48</td>\n",
              "      <td>2.05</td>\n",
              "    </tr>\n",
              "    <tr>\n",
              "      <th>3</th>\n",
              "      <td>3.14</td>\n",
              "      <td>12.30</td>\n",
              "    </tr>\n",
              "    <tr>\n",
              "      <th>4</th>\n",
              "      <td>2.21</td>\n",
              "      <td>9.35</td>\n",
              "    </tr>\n",
              "  </tbody>\n",
              "</table>\n",
              "</div>"
            ],
            "text/plain": [
              "   big_mac_price  hourly_wages_usd\n",
              "0           1.42              1.70\n",
              "1           1.86              7.80\n",
              "2           1.48              2.05\n",
              "3           3.14             12.30\n",
              "4           2.21              9.35"
            ]
          },
          "metadata": {
            "tags": []
          },
          "execution_count": 5
        }
      ]
    },
    {
      "cell_type": "code",
      "metadata": {
        "id": "4JSbmVLjwp3Q",
        "colab": {
          "base_uri": "https://localhost:8080/",
          "height": 369
        },
        "outputId": "9881f4fe-e768-4988-9b8c-4c83a78f2b0b"
      },
      "source": [
        "# scatter\n",
        "sns.relplot(x='big_mac_price',y='hourly_wages_usd',data=df)\n",
        "plt.show()"
      ],
      "execution_count": null,
      "outputs": [
        {
          "output_type": "display_data",
          "data": {
            "image/png": "[encoded data removed]",
            "text/plain": [
              "<Figure size 360x360 with 1 Axes>"
            ]
          },
          "metadata": {
            "tags": [],
            "needs_background": "light"
          }
        }
      ]
    },
    {
      "cell_type": "markdown",
      "metadata": {
        "id": "Ij40Y90iysIZ"
      },
      "source": [
        "# Linear Regression"
      ]
    },
    {
      "cell_type": "code",
      "metadata": {
        "id": "3bT2Zlw_w63f"
      },
      "source": [
        "import statsmodels.api as sm"
      ],
      "execution_count": null,
      "outputs": []
    },
    {
      "cell_type": "code",
      "metadata": {
        "id": "ZO7iCzGmywBU"
      },
      "source": [
        "# OLS\n",
        "model = sm.OLS.from_formula('hourly_wages_usd ~ big_mac_price',data=df).fit()"
      ],
      "execution_count": null,
      "outputs": []
    },
    {
      "cell_type": "code",
      "metadata": {
        "id": "IpmNX1nuyv-w",
        "colab": {
          "base_uri": "https://localhost:8080/",
          "height": 446
        },
        "outputId": "edc6b6da-2318-441a-9531-c4be03f838ed"
      },
      "source": [
        "print(model.summary())"
      ],
      "execution_count": null,
      "outputs": [
        {
          "output_type": "stream",
          "text": [
            "                            OLS Regression Results                            \n",
            "==============================================================================\n",
            "Dep. Variable:       hourly_wages_usd   R-squared:                       0.662\n",
            "Model:                            OLS   Adj. R-squared:                  0.648\n",
            "Method:                 Least Squares   F-statistic:                     48.88\n",
            "Date:                Mon, 13 Jul 2020   Prob (F-statistic):           2.50e-07\n",
            "Time:                        08:18:44   Log-Likelihood:                -66.251\n",
            "No. Observations:                  27   AIC:                             136.5\n",
            "Df Residuals:                      25   BIC:                             139.1\n",
            "Df Model:                           1                                         \n",
            "Covariance Type:            nonrobust                                         \n",
            "=================================================================================\n",
            "                    coef    std err          t      P>|t|      [0.025      0.975]\n",
            "---------------------------------------------------------------------------------\n",
            "Intercept        -4.5397      1.619     -2.805      0.010      -7.873      -1.206\n",
            "big_mac_price     4.7435      0.678      6.991      0.000       3.346       6.141\n",
            "==============================================================================\n",
            "Omnibus:                        5.597   Durbin-Watson:                   2.151\n",
            "Prob(Omnibus):                  0.061   Jarque-Bera (JB):                3.761\n",
            "Skew:                           0.829   Prob(JB):                        0.153\n",
            "Kurtosis:                       3.771   Cond. No.                         7.94\n",
            "==============================================================================\n",
            "\n",
            "Warnings:\n",
            "[1] Standard Errors assume that the covariance matrix of the errors is correctly specified.\n"
          ],
          "name": "stdout"
        }
      ]
    },
    {
      "cell_type": "code",
      "metadata": {
        "id": "VjnXJ2am_MoP"
      },
      "source": [
        "# fitted values\n",
        "net_hourly_wages_pred = -4.5397 + 4.7435 * df['big_mac_price']"
      ],
      "execution_count": null,
      "outputs": []
    },
    {
      "cell_type": "code",
      "metadata": {
        "id": "5QnhJ5tEG9_1",
        "colab": {
          "base_uri": "https://localhost:8080/",
          "height": 369
        },
        "outputId": "a7b44910-3430-4912-bfe7-03c5b5faeee4"
      },
      "source": [
        "# scatter\n",
        "sns.relplot(x='big_mac_price',y='hourly_wages_usd',data=df)\n",
        "plt.plot(df['big_mac_price'],net_hourly_wages_pred,'r-')\n",
        "plt.show()"
      ],
      "execution_count": null,
      "outputs": [
        {
          "output_type": "display_data",
          "data": {
            "image/png": "[encoded data removed]",
            "text/plain": [
              "<Figure size 360x360 with 1 Axes>"
            ]
          },
          "metadata": {
            "tags": [],
            "needs_background": "light"
          }
        }
      ]
    },
    {
      "cell_type": "markdown",
      "metadata": {
        "id": "mBHK5tWaQ1la"
      },
      "source": [
        "### ANOVA \n",
        "- F - statistics = $ \\frac{(ssr / df_ssr)}{ (sse / df_sse)} $\n"
      ]
    },
    {
      "cell_type": "code",
      "metadata": {
        "id": "JeZDdKvAQ5jv"
      },
      "source": [
        "ssr = np.sum(np.square(net_hourly_wages_pred - net_hourly_wages_pred.mean()))\n",
        "sse = np.sum(np.square(net_hourly_wages_pred - df['hourly_wages_usd'].values))"
      ],
      "execution_count": null,
      "outputs": []
    },
    {
      "cell_type": "code",
      "metadata": {
        "id": "qHKh7Cn0RhZ2",
        "colab": {
          "base_uri": "https://localhost:8080/",
          "height": 34
        },
        "outputId": "6cab755f-c33a-47f0-a06c-854303f58d9c"
      },
      "source": [
        "ssr, sse"
      ],
      "execution_count": null,
      "outputs": [
        {
          "output_type": "execute_result",
          "data": {
            "text/plain": [
              "(418.1817241247, 213.88429646337502)"
            ]
          },
          "metadata": {
            "tags": []
          },
          "execution_count": 14
        }
      ]
    },
    {
      "cell_type": "code",
      "metadata": {
        "id": "A7e135xARkFI"
      },
      "source": [
        "df_ssr = 1 # k (no. of independent features)\n",
        "df_sse = 27 - 1 - df_ssr"
      ],
      "execution_count": null,
      "outputs": []
    },
    {
      "cell_type": "code",
      "metadata": {
        "id": "bvjw7zV6R0Go",
        "colab": {
          "base_uri": "https://localhost:8080/",
          "height": 34
        },
        "outputId": "99785586-37b3-4052-8e60-adaf5853e076"
      },
      "source": [
        "F_stats = (ssr/df_ssr)/(sse/df_sse)\n",
        "F_stats"
      ],
      "execution_count": null,
      "outputs": [
        {
          "output_type": "execute_result",
          "data": {
            "text/plain": [
              "48.879432833479235"
            ]
          },
          "metadata": {
            "tags": []
          },
          "execution_count": 16
        }
      ]
    },
    {
      "cell_type": "markdown",
      "metadata": {
        "id": "3o-Qe6uzS4b4"
      },
      "source": [
        "### R _ Square  = $ 1 - \\frac{sse}{ sst} $"
      ]
    },
    {
      "cell_type": "code",
      "metadata": {
        "id": "6S7W8FkUTVBg",
        "colab": {
          "base_uri": "https://localhost:8080/",
          "height": 34
        },
        "outputId": "51305d23-40df-4fb6-d7d2-df570e4206f7"
      },
      "source": [
        "sst = sse+ ssr \n",
        "\n",
        "r_square = 1 - (sse/sst)\n",
        "print('R Square Value =',r_square)"
      ],
      "execution_count": null,
      "outputs": [
        {
          "output_type": "stream",
          "text": [
            "R Square Value = 0.6616108294124452\n"
          ],
          "name": "stdout"
        }
      ]
    },
    {
      "cell_type": "markdown",
      "metadata": {
        "id": "PUDuASu_UHCN"
      },
      "source": [
        "![image](https://i.postimg.cc/zGyPG5HG/questions.png)"
      ]
    },
    {
      "cell_type": "code",
      "metadata": {
        "id": "9dFKS47kTivX",
        "colab": {
          "base_uri": "https://localhost:8080/",
          "height": 110
        },
        "outputId": "156dce9c-cf29-443b-ca4b-d189e1945913"
      },
      "source": [
        "# correlation (r)\n",
        "df.corr()"
      ],
      "execution_count": null,
      "outputs": [
        {
          "output_type": "execute_result",
          "data": {
            "text/html": [
              "<div>\n",
              "<style scoped>\n",
              "    .dataframe tbody tr th:only-of-type {\n",
              "        vertical-align: middle;\n",
              "    }\n",
              "\n",
              "    .dataframe tbody tr th {\n",
              "        vertical-align: top;\n",
              "    }\n",
              "\n",
              "    .dataframe thead th {\n",
              "        text-align: right;\n",
              "    }\n",
              "</style>\n",
              "<table border=\"1\" class=\"dataframe\">\n",
              "  <thead>\n",
              "    <tr style=\"text-align: right;\">\n",
              "      <th></th>\n",
              "      <th>big_mac_price</th>\n",
              "      <th>hourly_wages_usd</th>\n",
              "    </tr>\n",
              "  </thead>\n",
              "  <tbody>\n",
              "    <tr>\n",
              "      <th>big_mac_price</th>\n",
              "      <td>1.000000</td>\n",
              "      <td>0.813396</td>\n",
              "    </tr>\n",
              "    <tr>\n",
              "      <th>hourly_wages_usd</th>\n",
              "      <td>0.813396</td>\n",
              "      <td>1.000000</td>\n",
              "    </tr>\n",
              "  </tbody>\n",
              "</table>\n",
              "</div>"
            ],
            "text/plain": [
              "                  big_mac_price  hourly_wages_usd\n",
              "big_mac_price          1.000000          0.813396\n",
              "hourly_wages_usd       0.813396          1.000000"
            ]
          },
          "metadata": {
            "tags": []
          },
          "execution_count": 23
        }
      ]
    },
    {
      "cell_type": "markdown",
      "metadata": {
        "id": "tZV7YpgzVGVu"
      },
      "source": [
        "answer: yes, there is realtionship, 0.8133 is the correlation values"
      ]
    },
    {
      "cell_type": "markdown",
      "metadata": {
        "id": "3h4WIlGhVtPQ"
      },
      "source": [
        "answer-2: yes, you can develop the model since F-stats value is significant. and the model is 66.16 strenght of the model"
      ]
    },
    {
      "cell_type": "code",
      "metadata": {
        "id": "lWjK7jCtV9nX",
        "colab": {
          "base_uri": "https://localhost:8080/",
          "height": 34
        },
        "outputId": "d3962af8-af82-4e9b-9c8c-97ad2e12563b"
      },
      "source": [
        "np.square(0.813396) # method-2"
      ],
      "execution_count": null,
      "outputs": [
        {
          "output_type": "execute_result",
          "data": {
            "text/plain": [
              "0.661613052816"
            ]
          },
          "metadata": {
            "tags": []
          },
          "execution_count": 25
        }
      ]
    },
    {
      "cell_type": "code",
      "metadata": {
        "id": "bQAgNvhEWNle"
      },
      "source": [
        "# answer -3\n",
        "net_hourly_wages_pred = -4.5397 + 4.7435 * 3"
      ],
      "execution_count": null,
      "outputs": []
    },
    {
      "cell_type": "code",
      "metadata": {
        "id": "nbP2R6PVWiRn",
        "colab": {
          "base_uri": "https://localhost:8080/",
          "height": 34
        },
        "outputId": "8eac86d1-16d7-49ab-ca5e-45a87d98ec14"
      },
      "source": [
        "net_hourly_wages_pred"
      ],
      "execution_count": null,
      "outputs": [
        {
          "output_type": "execute_result",
          "data": {
            "text/plain": [
              "9.6908"
            ]
          },
          "metadata": {
            "tags": []
          },
          "execution_count": 27
        }
      ]
    },
    {
      "cell_type": "code",
      "metadata": {
        "id": "XXlVgnv9WjAG"
      },
      "source": [
        ""
      ],
      "execution_count": null,
      "outputs": []
    }
  ]
}